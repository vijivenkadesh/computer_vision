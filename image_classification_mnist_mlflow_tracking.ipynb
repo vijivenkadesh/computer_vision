{
 "cells": [
  {
   "cell_type": "markdown",
   "id": "a4a99206-8192-4d78-90de-9803807fd6b6",
   "metadata": {},
   "source": [
    "Importing libraries"
   ]
  },
  {
   "cell_type": "code",
   "execution_count": null,
   "id": "ad4670d1",
   "metadata": {
    "scrolled": true
   },
   "outputs": [],
   "source": [
    "import tensorflow as tf"
   ]
  },
  {
   "cell_type": "code",
   "execution_count": null,
   "id": "b621ec77",
   "metadata": {},
   "outputs": [],
   "source": [
    "import tensorflow_datasets as tfds"
   ]
  },
  {
   "cell_type": "code",
   "execution_count": null,
   "id": "5d7f1613-4795-48e0-9367-c99c1571d2e1",
   "metadata": {},
   "outputs": [],
   "source": [
    "import mlflow"
   ]
  },
  {
   "cell_type": "code",
   "execution_count": null,
   "id": "da834619-f09c-438f-a53b-3df626a0c9de",
   "metadata": {},
   "outputs": [],
   "source": [
    "from mlflow.models.signature import infer_signature"
   ]
  },
  {
   "cell_type": "code",
   "execution_count": null,
   "id": "eca7962d-ed2f-4516-820d-9ae045b333f0",
   "metadata": {},
   "outputs": [],
   "source": [
    "import numpy as np"
   ]
  },
  {
   "cell_type": "code",
   "execution_count": null,
   "id": "36f0ea9c-3332-479c-af5b-170ae185065b",
   "metadata": {},
   "outputs": [],
   "source": [
    "tfds.list_builders()"
   ]
  },
  {
   "cell_type": "code",
   "execution_count": null,
   "id": "8403e182-576e-432c-873e-9e54fd0b3a5e",
   "metadata": {},
   "outputs": [],
   "source": [
    "data, meta_data = tfds.load(name='mnist',\t\n",
    "                            as_supervised=True,\n",
    "                            with_info=True,\n",
    "                            shuffle_files=True)"
   ]
  },
  {
   "cell_type": "code",
   "execution_count": null,
   "id": "e160ec58-0073-40e2-9976-c41669df60bf",
   "metadata": {},
   "outputs": [],
   "source": [
    "train_data = data['train']\n",
    "test_data = data['test']"
   ]
  },
  {
   "cell_type": "code",
   "execution_count": null,
   "id": "f6e7f1a0-a2d3-4493-8c7f-09cd47c6ff70",
   "metadata": {},
   "outputs": [],
   "source": [
    "class_names = meta_data.features['label'].names\n",
    "class_names"
   ]
  },
  {
   "cell_type": "code",
   "execution_count": null,
   "id": "b39b5eb5-6f1d-43e0-9e66-b7e7573d0778",
   "metadata": {},
   "outputs": [],
   "source": [
    "train_data = train_data.shuffle(buffer_size=1000)\n",
    "sample = train_data.take(1)\n",
    "for image, label in sample:\n",
    "  sample_image = image\n",
    "  sample_label = label\n",
    "\n",
    "import matplotlib.pyplot as plt\n",
    "plt.imshow(sample_image)\n",
    "plt.title(sample_label.numpy())"
   ]
  },
  {
   "cell_type": "code",
   "execution_count": null,
   "id": "066c2ea5-9c24-47b4-b1e0-257f1f6ff6ba",
   "metadata": {},
   "outputs": [],
   "source": [
    "sample_image.shape"
   ]
  },
  {
   "cell_type": "code",
   "execution_count": null,
   "id": "5a423252-e38d-4f65-9832-b48a74527326",
   "metadata": {},
   "outputs": [],
   "source": [
    "def preprocessing_image(image, label, imagesize=28):\n",
    "  image = tf.image.resize(images=image,\n",
    "                          size=[imagesize, imagesize],\n",
    "                          )\n",
    "  return tf.cast(image, dtype=tf.float32)/255., label"
   ]
  },
  {
   "cell_type": "code",
   "execution_count": null,
   "id": "38c0d87e-16fd-4460-816d-40ff66d99dc2",
   "metadata": {},
   "outputs": [],
   "source": [
    "train_data = train_data.map(map_func=preprocessing_image, num_parallel_calls=tf.data.AUTOTUNE)\n",
    "train_data = train_data.shuffle(buffer_size=1000)\n",
    "train_data = train_data.batch(batch_size=32)\n",
    "train_data = train_data.prefetch(buffer_size=tf.data.AUTOTUNE)"
   ]
  },
  {
   "cell_type": "code",
   "execution_count": null,
   "id": "1b4ff701-d609-4df2-8d6d-07c8c10d5f7b",
   "metadata": {},
   "outputs": [],
   "source": [
    "test_data = test_data.map(map_func=preprocessing_image, num_parallel_calls=tf.data.AUTOTUNE).batch(batch_size=32).prefetch(buffer_size=tf.data.AUTOTUNE)"
   ]
  },
  {
   "cell_type": "markdown",
   "id": "7393bdff-689e-40d2-bf82-be4304e7c1f4",
   "metadata": {},
   "source": [
    "SEQUENTAIL MODEL"
   ]
  },
  {
   "cell_type": "code",
   "execution_count": null,
   "id": "3c497f56-b071-4914-983a-840813d9b085",
   "metadata": {},
   "outputs": [],
   "source": [
    "from keras.models import Sequential\n",
    "from keras.layers import Convolution2D, GlobalAveragePooling1D, Dense, Flatten"
   ]
  },
  {
   "cell_type": "code",
   "execution_count": null,
   "id": "7d198056-3999-4a2f-b8f9-7f1a63a1f3dd",
   "metadata": {},
   "outputs": [],
   "source": [
    "model = Sequential([\n",
    "        Convolution2D(filters=10,\n",
    "        kernel_size=3,\n",
    "        strides=1,\n",
    "        padding='valid',\n",
    "        activation='relu',\n",
    "        input_shape=(28, 28, 1)), # input layer (specify input shape)\n",
    "  Convolution2D(10, 3, activation='relu'),\n",
    "  Convolution2D(10, 3, activation='relu'),\n",
    "  Flatten(),\n",
    "  Dense(10, activation='sigmoid') # output layer (specify output shape)\n",
    "])"
   ]
  },
  {
   "cell_type": "code",
   "execution_count": null,
   "id": "3b6fb9ff-762d-4e01-b174-515f37ab80d7",
   "metadata": {},
   "outputs": [],
   "source": [
    "model.compile(loss=\"sparse_categorical_crossentropy\", # Use sparse_categorical_crossentropy when labels are *not* one-hot\n",
    "              optimizer=tf.keras.optimizers.Adam(),\n",
    "              metrics=[\"accuracy\"])"
   ]
  },
  {
   "cell_type": "code",
   "execution_count": null,
   "id": "72ec040b-d528-4f6b-bdef-2762319d471d",
   "metadata": {
    "scrolled": true
   },
   "outputs": [],
   "source": [
    "model.summary()"
   ]
  },
  {
   "cell_type": "code",
   "execution_count": null,
   "id": "629dce6f-407c-400b-9bc3-a38a97de5303",
   "metadata": {},
   "outputs": [],
   "source": [
    "experiment_id = mlflow.create_experiment(name='mnist_data_mlflow_tracking')"
   ]
  },
  {
   "cell_type": "code",
   "execution_count": null,
   "id": "957e11e7-c1f7-4ad6-a084-02b6fc2551ab",
   "metadata": {},
   "outputs": [],
   "source": [
    "mlflow.set_experiment(experiment_name='mnist_data_mlflow_tracking')"
   ]
  },
  {
   "cell_type": "code",
   "execution_count": null,
   "id": "76444b4c-4f03-4770-8ff8-a704ed5a98de",
   "metadata": {},
   "outputs": [],
   "source": [
    "artifact_path = 'mnist_tf_model_mlflow'"
   ]
  },
  {
   "cell_type": "code",
   "execution_count": null,
   "id": "f525e2d6-5ac3-4ca4-9cf7-afb97e5dbeff",
   "metadata": {},
   "outputs": [],
   "source": [
    "mlflow.tensorflow.autolog(log_models=False)"
   ]
  },
  {
   "cell_type": "code",
   "execution_count": null,
   "id": "d4a3c3fe-8c48-4c4d-92c3-501b053afdcd",
   "metadata": {},
   "outputs": [],
   "source": [
    "with mlflow.start_run(run_name='testing_tensorflow_auto_logging', nested=True) as tf_run:\n",
    "    history1 = model.fit(train_data,\n",
    "                    epochs=5,\n",
    "                    steps_per_epoch=len(train_data)//32,\n",
    "                    validation_data=test_data,\n",
    "                    validation_steps=int(0.15 * len(test_data)))\n",
    "    # Infer model signature\n",
    "    sample = train_data.take(1)\n",
    "    for image, label in sample:\n",
    "        sample_image =  image.numpy()\n",
    "    signature = infer_signature(model_input=sample_image, model_output=model.predict(sample_image))\n",
    "\n",
    "\n",
    "    mlflow.tensorflow.log_model(model=model, artifact_path=artifact_path, signature=signature)"
   ]
  },
  {
   "cell_type": "code",
   "execution_count": null,
   "id": "c5011db9-0430-44d1-8917-7420f24c2aa7",
   "metadata": {},
   "outputs": [],
   "source": [
    "dir(tf_run)"
   ]
  },
  {
   "cell_type": "code",
   "execution_count": null,
   "id": "e757f31a-f880-449d-be54-089f256535ef",
   "metadata": {},
   "outputs": [],
   "source": [
    "tf_run.info.run_id, tf_run.info.run_name"
   ]
  },
  {
   "cell_type": "code",
   "execution_count": null,
   "id": "f2f77400-aca9-4802-b680-621fa54acbbf",
   "metadata": {},
   "outputs": [],
   "source": [
    "model_uri = f'runs:/{tf_run.info.run_id}/mnist_tf_model_mlflow'"
   ]
  },
  {
   "cell_type": "code",
   "execution_count": null,
   "id": "98e8b85e-0225-47c6-af19-8b6579d5f99b",
   "metadata": {},
   "outputs": [],
   "source": [
    "load_model = mlflow.pyfunc.load_model(model_uri=model_uri)"
   ]
  },
  {
   "cell_type": "code",
   "execution_count": null,
   "id": "e91d6dbf-4e2d-4d4a-ad24-7013dc6323a0",
   "metadata": {
    "scrolled": true
   },
   "outputs": [],
   "source": [
    "for image, lable in test_data.take(1):\n",
    "    test_sample = image.numpy()\n",
    "    lable = lable.numpy()"
   ]
  },
  {
   "cell_type": "code",
   "execution_count": null,
   "id": "df95287e-3924-40a7-98eb-c1893d27af46",
   "metadata": {},
   "outputs": [],
   "source": [
    "lable"
   ]
  },
  {
   "cell_type": "code",
   "execution_count": null,
   "id": "2bc8806e-c295-4a7d-9978-f3f59a187da8",
   "metadata": {},
   "outputs": [],
   "source": [
    "test_sample.shape"
   ]
  },
  {
   "cell_type": "code",
   "execution_count": null,
   "id": "0253cf23-deb5-4b10-972c-ab3199dec5ac",
   "metadata": {},
   "outputs": [],
   "source": [
    "predict_logged_model = load_model.predict(test_sample)"
   ]
  },
  {
   "cell_type": "code",
   "execution_count": null,
   "id": "59df626b-9ed3-49c1-89ad-9041dfc01b9f",
   "metadata": {},
   "outputs": [],
   "source": [
    "predict_logged_model[0].argmax()"
   ]
  },
  {
   "cell_type": "code",
   "execution_count": null,
   "id": "108b6012-ff4f-446c-8d9d-0a47fa92e801",
   "metadata": {},
   "outputs": [],
   "source": []
  },
  {
   "cell_type": "markdown",
   "id": "1ef15e99-cd4d-41b2-8634-e2882b8a8ee1",
   "metadata": {},
   "source": [
    "Saving Model Keras Native format"
   ]
  },
  {
   "cell_type": "code",
   "execution_count": null,
   "id": "d13ef1ed-eece-4f71-a46c-0d98494dd725",
   "metadata": {},
   "outputs": [],
   "source": [
    "mlflow.set_experiment(experiment_name='mnist_data_mlflow_tracking')"
   ]
  },
  {
   "cell_type": "code",
   "execution_count": null,
   "id": "3f0f0163-8585-4833-9101-d40257d1d09b",
   "metadata": {},
   "outputs": [],
   "source": [
    "mlflow.tensorflow.autolog(log_models=False)"
   ]
  },
  {
   "cell_type": "code",
   "execution_count": null,
   "id": "ba863ead-1cfa-46e7-bfb9-e7b5c1997511",
   "metadata": {},
   "outputs": [],
   "source": [
    "with mlflow.start_run(run_name='testing_tensorflow_auto_logging_keras_model', nested=True) as tf_run:\n",
    "    history1 = model.fit(train_data,\n",
    "                    epochs=5,\n",
    "                    steps_per_epoch=len(train_data)//32,\n",
    "                    validation_data=test_data,\n",
    "                    validation_steps=int(0.15 * len(test_data)))\n",
    "    # Infer model signature\n",
    "    sample = train_data.take(1)\n",
    "    for image, label in sample:\n",
    "        sample_image =  image.numpy()\n",
    "    signature = infer_signature(model_input=sample_image, model_output=model.predict(sample_image))\n",
    "\n",
    "\n",
    "    mlflow.keras.log_model(model=model, artifact_path=artifact_path, signature=signature)"
   ]
  },
  {
   "cell_type": "markdown",
   "id": "e69cfd21-a64c-4c50-b0e9-e30a84e38ee7",
   "metadata": {},
   "source": [
    "Registering and deploying the model"
   ]
  },
  {
   "cell_type": "code",
   "execution_count": null,
   "id": "96ba6264-3f05-42c5-a52e-051080602dee",
   "metadata": {},
   "outputs": [],
   "source": [
    "model_name = 'mnist_keras_model'"
   ]
  },
  {
   "cell_type": "code",
   "execution_count": null,
   "id": "c5a1e2a0-1863-48d1-b510-c322d021df7f",
   "metadata": {},
   "outputs": [],
   "source": [
    "tf_run.info.run_id"
   ]
  },
  {
   "cell_type": "code",
   "execution_count": null,
   "id": "9790af3e-97e3-488b-b07f-16a2fb3c07be",
   "metadata": {},
   "outputs": [],
   "source": [
    "run_df = mlflow.search_runs()"
   ]
  },
  {
   "cell_type": "code",
   "execution_count": null,
   "id": "566d581b-19ac-407a-8ab5-138d1987fe58",
   "metadata": {},
   "outputs": [],
   "source": [
    "run_df['run_id'][0]"
   ]
  },
  {
   "cell_type": "code",
   "execution_count": null,
   "id": "45aea203-1478-4abb-937a-15575f9fe650",
   "metadata": {},
   "outputs": [],
   "source": [
    "model_bath = f'runs:/389191edf6e04ac283addb17c5f6c69c/mnist_tf_model_mlflow'"
   ]
  },
  {
   "cell_type": "code",
   "execution_count": null,
   "id": "179bc078-af9f-4ce0-bea7-a0686d694bd5",
   "metadata": {},
   "outputs": [],
   "source": [
    "model_version = mlflow.register_model(model_uri=model_bath, name=model_name)"
   ]
  },
  {
   "cell_type": "markdown",
   "id": "3947d520-d908-4de6-a8ef-216c802aca82",
   "metadata": {},
   "source": [
    "invoking client"
   ]
  },
  {
   "cell_type": "code",
   "execution_count": null,
   "id": "ed3801e4-52dc-47ce-a830-5e921239ce81",
   "metadata": {},
   "outputs": [],
   "source": [
    "from mlflow.tracking import MlflowClient"
   ]
  },
  {
   "cell_type": "code",
   "execution_count": null,
   "id": "85a77ca1-ff2d-4e53-a25f-c871c4458011",
   "metadata": {},
   "outputs": [],
   "source": [
    "client = MlflowClient()"
   ]
  },
  {
   "cell_type": "code",
   "execution_count": null,
   "id": "df0a54f3-98de-412d-ae32-74b107ca8886",
   "metadata": {},
   "outputs": [],
   "source": [
    "client.get_model_version_stages(name=model_name, version=model_version.version)"
   ]
  },
  {
   "cell_type": "code",
   "execution_count": null,
   "id": "d03c3736-f73e-4f45-b952-34597050800f",
   "metadata": {},
   "outputs": [],
   "source": [
    "client.transition_model_version_stage(name=model_name, version=model_version.version, stage='Production')"
   ]
  },
  {
   "cell_type": "code",
   "execution_count": null,
   "id": "00ff2651-ba35-4ad4-945d-58ef860d55cd",
   "metadata": {},
   "outputs": [],
   "source": [
    "#predict using the model in production stage\n",
    "model_path = f'models:/{model_name}/Production'\n",
    "load_production_model = mlflow.keras.load_model(model_uri=model_path)"
   ]
  },
  {
   "cell_type": "code",
   "execution_count": null,
   "id": "c3c94206-25ff-4493-9780-0d9f2360f436",
   "metadata": {},
   "outputs": [],
   "source": [
    "predict_production_model = load_production_model.predict(test_sample)"
   ]
  },
  {
   "cell_type": "code",
   "execution_count": null,
   "id": "424f67b6-14ba-4e65-948e-c42a31937e6b",
   "metadata": {},
   "outputs": [],
   "source": [
    "predict_production_model[0].argmax()"
   ]
  },
  {
   "cell_type": "code",
   "execution_count": null,
   "id": "163ec13a-d56b-41ff-baea-b00b14dcdfa6",
   "metadata": {},
   "outputs": [],
   "source": [
    "client.update_registered_model(name=model_name, description='Keras Model')"
   ]
  },
  {
   "cell_type": "code",
   "execution_count": null,
   "id": "7be6f59e-15ce-4b4b-8f37-a8f94498b9e5",
   "metadata": {},
   "outputs": [],
   "source": [
    "#mlflow.register_model(model_uri='runs:/039e0293de764b1f845814bba7890d6f/mnist_tf_model_mlflow', name=model_name)"
   ]
  },
  {
   "cell_type": "code",
   "execution_count": null,
   "id": "526502be-0aaa-4c0a-bf27-ea69655e1ec5",
   "metadata": {},
   "outputs": [],
   "source": [
    "#run_df"
   ]
  },
  {
   "cell_type": "code",
   "execution_count": null,
   "id": "5c39a546-539e-449c-8b58-9daac8ca6f78",
   "metadata": {},
   "outputs": [],
   "source": [
    "#client.transition_model_version_stage(name=model_name, version=1, stage='Archived')"
   ]
  },
  {
   "cell_type": "code",
   "execution_count": null,
   "id": "8d1f1a67-cea6-4389-9bff-e71451cd862b",
   "metadata": {},
   "outputs": [],
   "source": [
    "#client.transition_model_version_stage(name=model_name, version=2, stage='Archived')"
   ]
  },
  {
   "cell_type": "markdown",
   "id": "075c7f9c-03d6-46e1-a392-5d6799ab41e0",
   "metadata": {},
   "source": [
    "Deploying MOdels in Azure Endpoints"
   ]
  },
  {
   "cell_type": "code",
   "execution_count": null,
   "id": "d38293c0-92b3-454b-bdf2-f24838ec0067",
   "metadata": {},
   "outputs": [],
   "source": [
    "from azureml.core import Workspace"
   ]
  },
  {
   "cell_type": "code",
   "execution_count": null,
   "id": "82c5a707-7dea-4595-8614-3aa0842d6e27",
   "metadata": {},
   "outputs": [],
   "source": [
    "ws = Workspace.create(name='mlflow_model_deployment', subscription_id='43257558-8ed1-49ab-901d-5615fd372599', resource_group='mlflow_testing', location='eastus', create_resource_group=False)"
   ]
  },
  {
   "cell_type": "code",
   "execution_count": null,
   "id": "82afe591-8366-4d0e-b2fc-2493018af69b",
   "metadata": {},
   "outputs": [],
   "source": [
    "ws = Workspace.get(name='mlflow_model_deployment', subscription_id='43257558-8ed1-49ab-901d-5615fd372599', resource_group='mlflow_testing', location='eastus')"
   ]
  },
  {
   "cell_type": "code",
   "execution_count": null,
   "id": "6e08fd64-3520-40ec-bc97-9b6b58bbaf07",
   "metadata": {},
   "outputs": [],
   "source": [
    "from azureml.core.model import Model"
   ]
  },
  {
   "cell_type": "code",
   "execution_count": null,
   "id": "e96915b4-755a-4810-8f6e-35ce6ca1c230",
   "metadata": {},
   "outputs": [],
   "source": [
    "path = os.path.abspath('D:/learning_desk/MLOPS/mlruns/472875462688718728/389191edf6e04ac283addb17c5f6c69c/artifacts/mnist_tf_model_mlflow')"
   ]
  },
  {
   "cell_type": "code",
   "execution_count": null,
   "id": "51f67acb-ac9a-4215-8d83-ab4fbb0fdbe0",
   "metadata": {},
   "outputs": [],
   "source": [
    "model = Model.register(workspace=ws, model_path=path, model_name='mnist_keras_model')"
   ]
  },
  {
   "cell_type": "code",
   "execution_count": null,
   "id": "506d8f3c-56b3-4751-8a28-554005ae3175",
   "metadata": {},
   "outputs": [],
   "source": [
    "import json\n",
    "from mlflow.deployments import get_deploy_client\n",
    "\n",
    "# Create the deployment configuration.\n",
    "# If no deployment configuration is provided, \n",
    "# then the deployment will happen using ACI (Azure Container Instance).\n",
    "deploy_config = {\"computeType\": \"aci\"}\n",
    "\n",
    "# Write the deployment configuration into a file.\n",
    "deployment_config_path = \"deployment_config.json\"\n",
    "\n",
    "with open(deployment_config_path, \"w\") as outfile:\n",
    "    outfile.write(json.dumps(deploy_config))\n"
   ]
  },
  {
   "cell_type": "code",
   "execution_count": null,
   "id": "a9bd1e29-a7e2-498b-b590-aeae51d70d02",
   "metadata": {},
   "outputs": [],
   "source": [
    "from mlflow.deployments import get_deploy_client"
   ]
  },
  {
   "cell_type": "code",
   "execution_count": null,
   "id": "46e119c5-ba7a-404f-a384-1e7122918072",
   "metadata": {},
   "outputs": [],
   "source": [
    "client = get_deploy_client(target_uri='azureml://eastus.api.azureml.ms/mlflow/v1.0/subscriptions/43257558-8ed1-49ab-901d-5615fd372599/resourceGroups/mlflow_testing/providers/Microsoft.MachineLearningServices/workspaces/mlflow_model_deployment')\n",
    "\n",
    "config = {\"deploy-config-file\": deployment_config_path}\n",
    "model_name = 'mnist_keras_model'\n",
    "model_version = 1"
   ]
  },
  {
   "cell_type": "code",
   "execution_count": null,
   "id": "2b0fe37c-9983-496a-b8f0-372a17e6c11e",
   "metadata": {},
   "outputs": [],
   "source": [
    "mlflow.set_tracking_uri('azureml://eastus.api.azureml.ms/mlflow/v1.0/subscriptions/43257558-8ed1-49ab-901d-5615fd372599/resourceGroups/mlflow_testing/providers/Microsoft.MachineLearningServices/workspaces/mlflow_model_deployment')"
   ]
  },
  {
   "cell_type": "code",
   "execution_count": null,
   "id": "56ce837d-f5bf-42dc-acf9-6bed2a78d591",
   "metadata": {
    "scrolled": true
   },
   "outputs": [],
   "source": [
    "client.create_deployment(name='test_deployment', model_uri=f\"models:/{model_name}/{model_version}\",\n",
    "                        config=config)"
   ]
  },
  {
   "cell_type": "code",
   "execution_count": null,
   "id": "cff7521c-aa9f-4386-b208-729f03a6b88d",
   "metadata": {},
   "outputs": [],
   "source": []
  },
  {
   "cell_type": "code",
   "execution_count": null,
   "id": "22e6d469-c1ba-42c2-9313-9ac6ae5f19ba",
   "metadata": {},
   "outputs": [],
   "source": []
  },
  {
   "cell_type": "code",
   "execution_count": null,
   "id": "8be08771-dc54-438e-9ec8-fedf341ba451",
   "metadata": {},
   "outputs": [],
   "source": []
  },
  {
   "cell_type": "code",
   "execution_count": null,
   "id": "162942ee-db78-44fe-be25-dd54d4956a13",
   "metadata": {},
   "outputs": [],
   "source": []
  },
  {
   "cell_type": "code",
   "execution_count": null,
   "id": "58d2865f-71a7-4217-a634-0e8988137072",
   "metadata": {},
   "outputs": [],
   "source": []
  },
  {
   "cell_type": "code",
   "execution_count": null,
   "id": "972e56dd-dd66-47ec-a443-7c6c51e30541",
   "metadata": {},
   "outputs": [],
   "source": []
  },
  {
   "cell_type": "code",
   "execution_count": null,
   "id": "becd0533-eb2d-4e68-9e72-1545e5d2544a",
   "metadata": {},
   "outputs": [],
   "source": []
  },
  {
   "cell_type": "code",
   "execution_count": null,
   "id": "ce367e30-0502-4f39-9f12-99477f916ac4",
   "metadata": {},
   "outputs": [],
   "source": [
    "import matplotlib.pyplot as plt\n",
    "plt.figure(figsize=(5, 5))\n",
    "plt.plot(history1.history['loss'], label='Traing Loss')\n",
    "plt.plot(history1.history['val_loss'], label='Validation Loss')\n",
    "plt.legend()\n",
    "\n",
    "plt.figure(figsize=(5, 5))\n",
    "plt.plot(history1.history['accuracy'], label='Traing Accuracy')\n",
    "plt.plot(history1.history['val_accuracy'], label='Validation Accuracy')\n",
    "plt.legend()"
   ]
  },
  {
   "cell_type": "code",
   "execution_count": null,
   "id": "f17b80d0-f8fc-4bc5-aeba-7ab132ce2d08",
   "metadata": {},
   "outputs": [],
   "source": [
    "def load_and_prep_image(filename, img_shape=28):\n",
    "  \"\"\"\n",
    "  Reads an image from filename, turns it into a tensor\n",
    "  and reshapes it to (img_shape, img_shape, colour_channel).\n",
    "  \"\"\"\n",
    "  # Read in target file (an image)\n",
    "  img = tf.io.read_file(filename)\n",
    "\n",
    "  # Decode the read file into a tensor & ensure 3 colour channels\n",
    "  # (our model is trained on images with 3 colour channels and sometimes images have 4 colour channels)\n",
    "  img = tf.image.decode_image(img, channels=1)\n",
    "\n",
    "  # Resize the image (to the same size our model was trained on)\n",
    "  img = tf.image.resize(img, size = [img_shape, img_shape])\n",
    "\n",
    "  # Rescale the image (get all values between 0 and 1)\n",
    "  img = img/255.\n",
    "  return img"
   ]
  },
  {
   "cell_type": "code",
   "execution_count": null,
   "id": "2f84ee04-3116-48f8-b357-a5e64da8b37a",
   "metadata": {},
   "outputs": [],
   "source": [
    "loaded_img = load_and_prep_image(filename='three.jpg')"
   ]
  },
  {
   "cell_type": "code",
   "execution_count": null,
   "id": "7bf614f9-99dd-4fc3-b81e-e14101c82ad7",
   "metadata": {},
   "outputs": [],
   "source": [
    "plt.imshow(loaded_img)"
   ]
  },
  {
   "cell_type": "code",
   "execution_count": null,
   "id": "f57ed529-4095-4363-af37-705ec3d148a9",
   "metadata": {},
   "outputs": [],
   "source": [
    "loaded_img = tf.expand_dims(loaded_img, axis=0)\n",
    "loaded_img.shape"
   ]
  },
  {
   "cell_type": "code",
   "execution_count": null,
   "id": "d050f0b7-8c4b-4c20-8dc8-39883ddcdbdc",
   "metadata": {},
   "outputs": [],
   "source": [
    "predict_1 = model.predict(loaded_img)\n",
    "predict_1"
   ]
  },
  {
   "cell_type": "code",
   "execution_count": null,
   "id": "a6c50bbf-04b9-4e5e-a9d5-94106c54dede",
   "metadata": {},
   "outputs": [],
   "source": [
    "predict_1.argmax()"
   ]
  },
  {
   "cell_type": "code",
   "execution_count": null,
   "id": "f31af363-8c5e-4860-aaeb-10cf8e53e3ce",
   "metadata": {},
   "outputs": [],
   "source": [
    "class_names[predict_1.argmax()]"
   ]
  },
  {
   "cell_type": "code",
   "execution_count": null,
   "id": "7060f814-506a-4cb7-9100-8d337a047eaf",
   "metadata": {},
   "outputs": [],
   "source": [
    "tf.__version__"
   ]
  },
  {
   "cell_type": "code",
   "execution_count": null,
   "id": "36f68d9b-f02b-4ff9-a33b-4ae54c01e4da",
   "metadata": {},
   "outputs": [],
   "source": []
  }
 ],
 "metadata": {
  "kernelspec": {
   "display_name": "mlflow_venv",
   "language": "python",
   "name": "mlflow_venv"
  },
  "language_info": {
   "codemirror_mode": {
    "name": "ipython",
    "version": 3
   },
   "file_extension": ".py",
   "mimetype": "text/x-python",
   "name": "python",
   "nbconvert_exporter": "python",
   "pygments_lexer": "ipython3",
   "version": "3.11.7"
  }
 },
 "nbformat": 4,
 "nbformat_minor": 5
}
